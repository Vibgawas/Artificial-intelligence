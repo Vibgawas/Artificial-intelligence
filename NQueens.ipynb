{
  "nbformat": 4,
  "nbformat_minor": 0,
  "metadata": {
    "colab": {
      "name": "NQueens.ipynb",
      "provenance": [],
      "authorship_tag": "ABX9TyO9377y6jiljZFwbTDJxa/1",
      "include_colab_link": true
    },
    "kernelspec": {
      "name": "python3",
      "display_name": "Python 3"
    },
    "language_info": {
      "name": "python"
    }
  },
  "cells": [
    {
      "cell_type": "markdown",
      "metadata": {
        "id": "view-in-github",
        "colab_type": "text"
      },
      "source": [
        "<a href=\"https://colab.research.google.com/github/Vibgawas/Artificial-intelligence/blob/main/NQueens.ipynb\" target=\"_parent\"><img src=\"https://colab.research.google.com/assets/colab-badge.svg\" alt=\"Open In Colab\"/></a>"
      ]
    },
    {
      "cell_type": "code",
      "execution_count": 1,
      "metadata": {
        "id": "tDXYDn8byHYa"
      },
      "outputs": [],
      "source": [
        "class Solution:\n",
        "    def check(self, matrix, r, c):\n",
        "        # check column\n",
        "        for i in range(r):\n",
        "            if matrix[i][c] == \"Q\":\n",
        "                return False\n",
        "\n",
        "        # check diagonal \"\\\"\n",
        "        (i, j) = (r, c)\n",
        "        while i >= 0 and j >= 0:\n",
        "            if matrix[i][j] == \"Q\":\n",
        "                return False\n",
        "\n",
        "            i = i - 1\n",
        "            j = j - 1\n",
        "\n",
        "        # check diagonal \"/\"\n",
        "        (i, j) = (r, c)\n",
        "        while i >= 0 and j < len(matrix):\n",
        "            if matrix[i][j] == \"Q\":\n",
        "                return False\n",
        "            i = i - 1\n",
        "            j = j + 1\n",
        "\n",
        "        return True\n",
        "\n",
        "    def printSolution(self, mat):\n",
        "        for r in mat:\n",
        "            print(str(r).replace(',', '').replace('\\'', ''))\n",
        "        print()\n",
        "\n",
        "    def NQueen(self, matrix, r):\n",
        "        if r == len(matrix):\n",
        "            self.printSolution(matrix)\n",
        "            return matrix\n",
        "\n",
        "        for i in range(len(matrix)):\n",
        "            if self.check(matrix, r, i):\n",
        "                matrix[r][i] = 'Q'\n",
        "\n",
        "                self.NQueen(matrix, r + 1)\n",
        "\n",
        "                matrix[r][i] = \"-\"\n"
      ]
    },
    {
      "cell_type": "code",
      "source": [
        "s = Solution()\n",
        "n = 4\n",
        "matrix = [[\"-\" for i in range(n)] for j in range(n)]\n",
        "s.NQueen(matrix, 0)"
      ],
      "metadata": {
        "colab": {
          "base_uri": "https://localhost:8080/"
        },
        "id": "tIzbCQYdyV9n",
        "outputId": "8e2ce7da-9e23-4083-f3fb-cd60e9b6c3fb"
      },
      "execution_count": 2,
      "outputs": [
        {
          "output_type": "stream",
          "name": "stdout",
          "text": [
            "[- Q - -]\n",
            "[- - - Q]\n",
            "[Q - - -]\n",
            "[- - Q -]\n",
            "\n",
            "[- - Q -]\n",
            "[Q - - -]\n",
            "[- - - Q]\n",
            "[- Q - -]\n",
            "\n"
          ]
        }
      ]
    },
    {
      "cell_type": "code",
      "source": [
        ""
      ],
      "metadata": {
        "id": "B-cG2HuwyYn9"
      },
      "execution_count": null,
      "outputs": []
    }
  ]
}