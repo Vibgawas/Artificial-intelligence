{
  "nbformat": 4,
  "nbformat_minor": 0,
  "metadata": {
    "colab": {
      "name": "Travelling Salesman Problem(nearest neighbour).ipynb",
      "provenance": [],
      "collapsed_sections": []
    },
    "kernelspec": {
      "name": "python3",
      "display_name": "Python 3"
    },
    "language_info": {
      "name": "python"
    }
  },
  "cells": [
    {
      "cell_type": "code",
      "execution_count": 8,
      "metadata": {
        "id": "LBfvpqV0SmD2"
      },
      "outputs": [],
      "source": [
        "import matplotlib.pyplot as plt\n",
        "import numpy as np\n",
        "from sys import maxsize"
      ]
    },
    {
      "cell_type": "code",
      "source": [
        "def fun(n, arr, arr1, start):\n",
        "    li = []\n",
        "    total_cost = 0\n",
        "    path = str(start + 1) + '-->'\n",
        "    i1 = 0\n",
        "    i2 = 0\n",
        "    k = start\n",
        "    for i in range(n - 1):\n",
        "        minimum = maxsize\n",
        "        for j in range(n):\n",
        "            if 0 < arr[k][j] < minimum and arr1[j][j] != 1:\n",
        "                minimum = arr[k][j]\n",
        "                i1 = k\n",
        "                i2 = j\n",
        "        arr1[k][k] = 1\n",
        "        arr1[i1][i2] = 1\n",
        "        arr1[i2][i1] = 1\n",
        "        li.append([k,i2])\n",
        "        k = i2\n",
        "        path += str(i2 + 1) + '-->'\n",
        "        total_cost += minimum\n",
        "    li.append([k,start])\n",
        "    total_cost += arr[k][start]\n",
        "    path += str(start + 1)\n",
        "    print(f'Shortest Path cost is: {total_cost} \\nShortest Path is :{path}')\n",
        "    \n",
        "    return li"
      ],
      "metadata": {
        "id": "9X6nE7gYWhl_"
      },
      "execution_count": 11,
      "outputs": []
    },
    {
      "cell_type": "code",
      "source": [
        "n = int(input(\"Enter number of nodes : \"))\n",
        "print(\"Enter Elements row wise : \")\n",
        "arr = np.array([list(map(int, input().split())) for i in range(n)])\n",
        "start_node = int(input(\"Enter starting node : \"))\n",
        "arr1 = np.array([[0 for i in range(n)] for i in range(n)])\n",
        "\n",
        "\n",
        "li = fun(n, arr, arr1, start_node)"
      ],
      "metadata": {
        "colab": {
          "base_uri": "https://localhost:8080/"
        },
        "id": "kM534aM9WtPi",
        "outputId": "6d8db871-b542-4c70-9d38-d3b59d9f7cf7"
      },
      "execution_count": 12,
      "outputs": [
        {
          "output_type": "stream",
          "name": "stdout",
          "text": [
            "Enter number of nodes : 4\n",
            "Enter Elements row wise : \n",
            "0 10 15 20\n",
            "10 0 35 25\n",
            "15 35 0 30\n",
            "20 25 30 0\n",
            "Enter starting node : 0\n",
            "Shortest Path cost is: 80 \n",
            "Shortest Path is :1-->2-->4-->3-->1\n"
          ]
        }
      ]
    },
    {
      "cell_type": "code",
      "source": [
        "x1 = [0]\n",
        "y1 = [0]\n",
        "for i in range(len(li)-1):\n",
        "    x1.append(li[i][0])\n",
        "    y1.append(li[i][1])\n",
        "\n",
        "x1.append(0)\n",
        "y1.append(0)\n",
        "\n",
        "plt.plot(x1, y1, '-.')\n",
        "  \n",
        "plt.xlabel(\"X-axis data\")\n",
        "plt.ylabel(\"Y-axis data\")\n",
        "plt.title('multiple plots')\n",
        "plt.show()"
      ],
      "metadata": {
        "colab": {
          "base_uri": "https://localhost:8080/",
          "height": 295
        },
        "id": "mr6hMNbET5Mr",
        "outputId": "a40e2079-7309-411a-8ba0-af6597c06396"
      },
      "execution_count": 14,
      "outputs": [
        {
          "output_type": "display_data",
          "data": {
            "text/plain": [
              "<Figure size 432x288 with 1 Axes>"
            ],
            "image/png": "[encoded data removed]"
          },
          "metadata": {
            "needs_background": "light"
          }
        }
      ]
    },
    {
      "cell_type": "code",
      "source": [
        ""
      ],
      "metadata": {
        "id": "UluwhrBpUBzH"
      },
      "execution_count": null,
      "outputs": []
    }
  ]
}